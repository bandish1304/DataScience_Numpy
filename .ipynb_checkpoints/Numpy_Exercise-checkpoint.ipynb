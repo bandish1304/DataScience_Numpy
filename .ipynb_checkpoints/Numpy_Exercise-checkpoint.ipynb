{
 "cells": [
  {
   "cell_type": "markdown",
   "metadata": {},
   "source": [
    "**NumPy Lab Assignment**"
   ]
  },
  {
   "cell_type": "markdown",
   "metadata": {},
   "source": [
    "**Exercise 1: Cast a python list to a numpy array**\n"
   ]
  },
  {
   "cell_type": "code",
   "execution_count": 1,
   "metadata": {},
   "outputs": [],
   "source": [
    "#import numpy\n",
    " \n",
    "\n",
    "#create a list\n",
    " \n",
    "\n",
    "#display the list\n",
    " "
   ]
  },
  {
   "cell_type": "code",
   "execution_count": 2,
   "metadata": {},
   "outputs": [],
   "source": [
    "#cast that list as an array\n",
    " \n",
    "#we get back an array as the container for that list object\n",
    "# note this is one dimensional array\n",
    "\n"
   ]
  },
  {
   "cell_type": "code",
   "execution_count": 3,
   "metadata": {},
   "outputs": [],
   "source": [
    "#  assign this to an array\n",
    " \n",
    "# display arr\n",
    " "
   ]
  },
  {
   "cell_type": "markdown",
   "metadata": {},
   "source": [
    "**Exercise 2: Cast a list of lists to a two dimensional numpy arrary**"
   ]
  },
  {
   "cell_type": "code",
   "execution_count": 6,
   "metadata": {},
   "outputs": [
    {
     "data": {
      "text/plain": [
       "[[10, 20, 30], [41, 52, 62], [71, 18, 19], [100, 200, 230]]"
      ]
     },
     "execution_count": 6,
     "metadata": {},
     "output_type": "execute_result"
    }
   ],
   "source": [
    "#mat is a list of four lists \n",
    "mat1=[[10,20,30], [41,52,62], [71,18,19],[100,200,230]]\n",
    "\n",
    "# let us display it\n",
    "mat1"
   ]
  },
  {
   "cell_type": "code",
   "execution_count": 7,
   "metadata": {},
   "outputs": [
    {
     "data": {
      "text/plain": [
       "array([[ 10,  20,  30],\n",
       "       [ 41,  52,  62],\n",
       "       [ 71,  18,  19],\n",
       "       [100, 200, 230]])"
      ]
     },
     "execution_count": 7,
     "metadata": {},
     "output_type": "execute_result"
    }
   ],
   "source": [
    "#let us cast this to an array\n",
    " \n",
    "\n",
    "# I will get back two dimensional array. The two sets of brackets and the way it is displayed indicates\n",
    "# that it is a two dimensional array"
   ]
  },
  {
   "cell_type": "markdown",
   "metadata": {},
   "source": [
    "**Exercise 3: Using NumPy generation methods arrange to create arrays**"
   ]
  },
  {
   "cell_type": "code",
   "execution_count": 5,
   "metadata": {},
   "outputs": [],
   "source": [
    "#use arrange method to create the following numpy array [0,1,2,3,4,5,6,7,8,9,10,11,12,13,14,15]\n",
    " \n",
    "    "
   ]
  },
  {
   "cell_type": "code",
   "execution_count": 4,
   "metadata": {},
   "outputs": [],
   "source": [
    "#np.arrange using start, stop, and step arguments to create the following numpy array [0,4,8,12,16,20,24]\n"
   ]
  },
  {
   "cell_type": "markdown",
   "metadata": {},
   "source": [
    "**Exercise 4:**"
   ]
  },
  {
   "cell_type": "code",
   "execution_count": 6,
   "metadata": {},
   "outputs": [],
   "source": [
    "#create the two dimensional 4 x 4 numpy array of zeros\n",
    "\n"
   ]
  },
  {
   "cell_type": "code",
   "execution_count": 7,
   "metadata": {},
   "outputs": [],
   "source": [
    "#create the two dimensional 5 x 5 numpy array of ones\n",
    "\n"
   ]
  },
  {
   "cell_type": "code",
   "execution_count": 8,
   "metadata": {},
   "outputs": [],
   "source": [
    "#create a two dimensianal identity matrix of size 6 x6\n",
    "\n"
   ]
  },
  {
   "cell_type": "code",
   "execution_count": 9,
   "metadata": {},
   "outputs": [],
   "source": [
    "#Create numpy array from 0 to 19 elements with a length of 20\n",
    "\n",
    "\n",
    "#display arr\n",
    "\n"
   ]
  },
  {
   "cell_type": "markdown",
   "metadata": {},
   "source": [
    "**Exericse 5*"
   ]
  },
  {
   "cell_type": "code",
   "execution_count": 10,
   "metadata": {},
   "outputs": [],
   "source": [
    "#consider the following numpy array\n",
    "mylist = [[10, 21, 32, 40],[3, 4, 5, 6], [50, 6, 70, 8]]\n",
    "#cast it to an array arr2\n",
    " \n",
    "    \n",
    "#find max\n",
    "  \n",
    "    "
   ]
  },
  {
   "cell_type": "code",
   "execution_count": 11,
   "metadata": {},
   "outputs": [],
   "source": [
    "#find min\n",
    "\n"
   ]
  },
  {
   "cell_type": "code",
   "execution_count": 12,
   "metadata": {},
   "outputs": [],
   "source": [
    "#Find the location of the min value \n",
    "\n"
   ]
  },
  {
   "cell_type": "markdown",
   "metadata": {},
   "source": [
    "**Exercise 6-NumPy Scalar Operations**"
   ]
  },
  {
   "cell_type": "code",
   "execution_count": null,
   "metadata": {},
   "outputs": [],
   "source": [
    "#import numpy as np\n",
    "import numpy as np"
   ]
  },
  {
   "cell_type": "code",
   "execution_count": 26,
   "metadata": {},
   "outputs": [],
   "source": [
    "#to hide warnings from jupyter notebook\n",
    "\n"
   ]
  },
  {
   "cell_type": "code",
   "execution_count": 16,
   "metadata": {},
   "outputs": [],
   "source": [
    "#consider the following numpy array\n",
    "list2 = [[11, 21, 3, 4],[3, 41, 5, 6], [51, 6, 71, 8]]\n",
    "\n",
    "#cast it to a numpy array arr2\n",
    "\n"
   ]
  },
  {
   "cell_type": "code",
   "execution_count": 13,
   "metadata": {},
   "outputs": [],
   "source": [
    "#multiply each element by 6\n",
    "\n"
   ]
  },
  {
   "cell_type": "code",
   "execution_count": 14,
   "metadata": {},
   "outputs": [],
   "source": [
    "#raise every element to the power 4\n",
    " \n",
    "    "
   ]
  },
  {
   "cell_type": "markdown",
   "metadata": {},
   "source": [
    "**Exercise 6 descriptive statistics**"
   ]
  },
  {
   "cell_type": "code",
   "execution_count": 15,
   "metadata": {},
   "outputs": [],
   "source": [
    "# get the average of numbers in a numpy array arr2\n",
    "\n"
   ]
  },
  {
   "cell_type": "code",
   "execution_count": 16,
   "metadata": {},
   "outputs": [],
   "source": [
    "# get the median of numbers in a numpy array aar2\n",
    "\n"
   ]
  },
  {
   "cell_type": "markdown",
   "metadata": {},
   "source": [
    "- Let us create another numpy array that has elements repeated more than once\n",
    "- arr3=np.append([10, 20, 30], [[4, 5, 6], [40, 40, 60]])"
   ]
  },
  {
   "cell_type": "code",
   "execution_count": 18,
   "metadata": {},
   "outputs": [],
   "source": [
    "#create the array mentioned above\n",
    "#compute the mode for arr3\n",
    " \n",
    "\n",
    "#get the mode of number in a numpy array\n",
    "#import the required library\n",
    "\n",
    "\n",
    "\n",
    "# get the mode of arr3\n",
    "\n",
    "\n",
    "#print the mode\n",
    "\n"
   ]
  },
  {
   "cell_type": "markdown",
   "metadata": {},
   "source": [
    "##### **Exercise 7**\n",
    "- Get the min max mean vairance skewnees and kurtosis for the following numpy array\n",
    "- b= np. arrange (15)"
   ]
  },
  {
   "cell_type": "code",
   "execution_count": 19,
   "metadata": {},
   "outputs": [],
   "source": [
    "#create a numpy array using arange\n",
    "\n",
    "\n",
    "#import required library\n",
    "\n",
    "\n",
    "#Get all the required values in one statment\n",
    "\n"
   ]
  },
  {
   "cell_type": "markdown",
   "metadata": {},
   "source": [
    "**Exercise 8: Slicing Two Dimensional Array ---Matrix**\n",
    " - Consider the following two dimensional array\n",
    " - arr4 = np.array([[35,20,15],[40,115,25],[15,20,75],[30,10,35]])"
   ]
  },
  {
   "cell_type": "code",
   "execution_count": 21,
   "metadata": {},
   "outputs": [],
   "source": [
    "#create the array arr4 mentioned above\n",
    "\n",
    "\n",
    "#print it\n",
    "\n"
   ]
  },
  {
   "cell_type": "code",
   "execution_count": 20,
   "metadata": {},
   "outputs": [],
   "source": [
    "##to get  the second and third row of arr4\n",
    "\n"
   ]
  },
  {
   "cell_type": "code",
   "execution_count": 22,
   "metadata": {},
   "outputs": [],
   "source": [
    "#if you want submatrices of a matrix not elements you can use : for slice notations\n",
    "#let us say that I want to grap 20,15,115,25,20,75 i.e. the submatrix at the top right corner\n",
    "\n"
   ]
  },
  {
   "cell_type": "code",
   "execution_count": 23,
   "metadata": {},
   "outputs": [],
   "source": [
    "#let us say that we want to know all the elements of the array arr4 that are > 30\n",
    "\n"
   ]
  },
  {
   "cell_type": "code",
   "execution_count": null,
   "metadata": {},
   "outputs": [],
   "source": []
  }
 ],
 "metadata": {
  "kernelspec": {
   "display_name": "Python 3",
   "language": "python",
   "name": "python3"
  },
  "language_info": {
   "codemirror_mode": {
    "name": "ipython",
    "version": 3
   },
   "file_extension": ".py",
   "mimetype": "text/x-python",
   "name": "python",
   "nbconvert_exporter": "python",
   "pygments_lexer": "ipython3",
   "version": "3.7.0"
  }
 },
 "nbformat": 4,
 "nbformat_minor": 2
}
