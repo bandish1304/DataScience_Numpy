{
 "cells": [
  {
   "cell_type": "markdown",
   "metadata": {},
   "source": [
    "**NumPy Lab Assignment**"
   ]
  },
  {
   "cell_type": "markdown",
   "metadata": {},
   "source": [
    "**Exercise 1: Cast a python list to a numpy array**\n"
   ]
  },
  {
   "cell_type": "code",
   "execution_count": 1,
   "metadata": {},
   "outputs": [
    {
     "name": "stdout",
     "output_type": "stream",
     "text": [
      "[10, 20, 30, 40, 50]\n",
      "This is done by Bandish Patel\n"
     ]
    }
   ],
   "source": [
    "#import numpy\n",
    "import numpy as np\n",
    "\n",
    "#create a list\n",
    "my_list = [10, 20, 30, 40, 50]\n",
    "\n",
    "#display the list\n",
    "print(my_list)\n",
    "print(\"This is done by Bandish Patel\")\n"
   ]
  },
  {
   "cell_type": "code",
   "execution_count": 2,
   "metadata": {},
   "outputs": [
    {
     "name": "stdout",
     "output_type": "stream",
     "text": [
      "[10 20 30 40 50]\n",
      "This is done by Bandish Patel\n"
     ]
    }
   ],
   "source": [
    "#cast that list as an array\n",
    "arr = np.array(my_list)\n",
    "#we get back an array as the container for that list object\n",
    "# note this is one dimensional array\n",
    "print(arr)\n",
    "print(\"This is done by Bandish Patel\")\n",
    "\n"
   ]
  },
  {
   "cell_type": "code",
   "execution_count": 3,
   "metadata": {},
   "outputs": [
    {
     "name": "stdout",
     "output_type": "stream",
     "text": [
      "[10, 20, 30, 40, 50]\n",
      "This is done by Bandish Patel\n"
     ]
    }
   ],
   "source": [
    "#  assign this to an array\n",
    "arr = [10, 20, 30, 40, 50]\n",
    "# display arr\n",
    "print(arr)\n",
    "print(\"This is done by Bandish Patel\")"
   ]
  },
  {
   "cell_type": "markdown",
   "metadata": {},
   "source": [
    "**Exercise 2: Cast a list of lists to a two dimensional numpy arrary**"
   ]
  },
  {
   "cell_type": "code",
   "execution_count": 6,
   "metadata": {},
   "outputs": [
    {
     "data": {
      "text/plain": [
       "[[10, 20, 30], [41, 52, 62], [71, 18, 19], [100, 200, 230]]"
      ]
     },
     "execution_count": 6,
     "metadata": {},
     "output_type": "execute_result"
    }
   ],
   "source": [
    "#mat is a list of four lists \n",
    "mat1=[[10,20,30], [41,52,62], [71,18,19],[100,200,230]]\n",
    "\n",
    "# let us display it\n",
    "mat1"
   ]
  },
  {
   "cell_type": "code",
   "execution_count": 4,
   "metadata": {},
   "outputs": [
    {
     "name": "stdout",
     "output_type": "stream",
     "text": [
      "[[ 10  20  30]\n",
      " [ 41  52  62]\n",
      " [ 71  18  19]\n",
      " [100 200 230]]\n",
      "This is done by Bandish Patel\n"
     ]
    }
   ],
   "source": [
    "#let us cast this to an array\n",
    "mat1 = [[10, 20, 30], [41, 52, 62], [71, 18, 19], [100, 200, 230]]\n",
    "arr = np.array(mat1) \n",
    "print(arr)\n",
    "print(\"This is done by Bandish Patel\")\n",
    "# I will get back two dimensional array. The two sets of brackets and the way it is displayed indicates\n",
    "# that it is a two dimensional array"
   ]
  },
  {
   "cell_type": "markdown",
   "metadata": {},
   "source": [
    "**Exercise 3: Using NumPy generation methods arrange to create arrays**"
   ]
  },
  {
   "cell_type": "code",
   "execution_count": 5,
   "metadata": {},
   "outputs": [
    {
     "name": "stdout",
     "output_type": "stream",
     "text": [
      "[ 0  1  2  3  4  5  6  7  8  9 10 11 12 13 14 15]\n",
      "This is done by Bandish Patel\n"
     ]
    }
   ],
   "source": [
    "#use arrange method to create the following numpy array [0,1,2,3,4,5,6,7,8,9,10,11,12,13,14,15]\n",
    "import numpy as np\n",
    "arr = [0,1,2,3,4,5,6,7,8,9,10,11,12,13,14,15]\n",
    "arr = np.arange(16)\n",
    "print(arr)\n",
    "print(\"This is done by Bandish Patel\")   "
   ]
  },
  {
   "cell_type": "code",
   "execution_count": 6,
   "metadata": {},
   "outputs": [
    {
     "name": "stdout",
     "output_type": "stream",
     "text": [
      "[ 0  4  8 12 16 20 24]\n",
      "This is done by Bandish Patel\n"
     ]
    }
   ],
   "source": [
    "#np.arrange using start, stop, and step arguments to create the following numpy array [0,4,8,12,16,20,24]\n",
    "arr = np.arange(0, 25, 4)\n",
    "print(arr)\n",
    "print(\"This is done by Bandish Patel\")"
   ]
  },
  {
   "cell_type": "markdown",
   "metadata": {},
   "source": [
    "**Exercise 4:**"
   ]
  },
  {
   "cell_type": "code",
   "execution_count": 7,
   "metadata": {},
   "outputs": [
    {
     "name": "stdout",
     "output_type": "stream",
     "text": [
      "[[0. 0. 0. 0.]\n",
      " [0. 0. 0. 0.]\n",
      " [0. 0. 0. 0.]\n",
      " [0. 0. 0. 0.]]\n",
      "This is done by Bandish Patel\n"
     ]
    }
   ],
   "source": [
    "#create the two dimensional 4 x 4 numpy array of zeros\n",
    "array = np.zeros((4,4))\n",
    "print(array)\n",
    "print(\"This is done by Bandish Patel\")"
   ]
  },
  {
   "cell_type": "code",
   "execution_count": 8,
   "metadata": {},
   "outputs": [
    {
     "name": "stdout",
     "output_type": "stream",
     "text": [
      "[[1. 1. 1. 1. 1.]\n",
      " [1. 1. 1. 1. 1.]\n",
      " [1. 1. 1. 1. 1.]\n",
      " [1. 1. 1. 1. 1.]\n",
      " [1. 1. 1. 1. 1.]]\n",
      "This is done by Bandish Patel\n"
     ]
    }
   ],
   "source": [
    "#create the two dimensional 5 x 5 numpy array of ones\n",
    "array_ones = np.ones((5,5))\n",
    "print(array_ones)\n",
    "print(\"This is done by Bandish Patel\")"
   ]
  },
  {
   "cell_type": "code",
   "execution_count": 9,
   "metadata": {},
   "outputs": [
    {
     "name": "stdout",
     "output_type": "stream",
     "text": [
      "[[1. 0. 0. 0. 0. 0.]\n",
      " [0. 1. 0. 0. 0. 0.]\n",
      " [0. 0. 1. 0. 0. 0.]\n",
      " [0. 0. 0. 1. 0. 0.]\n",
      " [0. 0. 0. 0. 1. 0.]\n",
      " [0. 0. 0. 0. 0. 1.]]\n",
      "This is done by Bandish Patel\n"
     ]
    }
   ],
   "source": [
    "#create a two dimensianal identity matrix of size 6 x6\n",
    "arr = np.eye(6)\n",
    "print(arr)\n",
    "print(\"This is done by Bandish Patel\")"
   ]
  },
  {
   "cell_type": "code",
   "execution_count": 10,
   "metadata": {},
   "outputs": [
    {
     "name": "stdout",
     "output_type": "stream",
     "text": [
      "[ 0  1  2  3  4  5  6  7  8  9 10 11 12 13 14 15 16 17 18 19]\n",
      "This is done by Bandish Patel\n"
     ]
    }
   ],
   "source": [
    "#Create numpy array from 0 to 19 elements with a length of 20\n",
    "arr = np.arange(20)\n",
    "\n",
    "#display arr\n",
    "print(arr)\n",
    "print(\"This is done by Bandish Patel\")"
   ]
  },
  {
   "cell_type": "markdown",
   "metadata": {},
   "source": [
    "**Exericse 5*"
   ]
  },
  {
   "cell_type": "code",
   "execution_count": 11,
   "metadata": {},
   "outputs": [
    {
     "name": "stdout",
     "output_type": "stream",
     "text": [
      "70\n",
      "This is done by Bandish Patel\n"
     ]
    }
   ],
   "source": [
    "#consider the following numpy array\n",
    "mylist = [[10, 21, 32, 40],[3, 4, 5, 6], [50, 6, 70, 8]]\n",
    "#cast it to an array arr2\n",
    "arr2 = np.array(mylist)\n",
    "    \n",
    "#find max\n",
    "maximum = np.max(arr2)  \n",
    "print(maximum)\n",
    "print(\"This is done by Bandish Patel\")    "
   ]
  },
  {
   "cell_type": "code",
   "execution_count": 12,
   "metadata": {},
   "outputs": [
    {
     "name": "stdout",
     "output_type": "stream",
     "text": [
      "3\n",
      "This is done by Bandish Patel\n"
     ]
    }
   ],
   "source": [
    "#find min\n",
    "minimum = np.min(arr2)\n",
    "print(minimum)\n",
    "print(\"This is done by Bandish Patel\")\n"
   ]
  },
  {
   "cell_type": "code",
   "execution_count": 13,
   "metadata": {},
   "outputs": [
    {
     "name": "stdout",
     "output_type": "stream",
     "text": [
      "(1, 0)\n",
      "This is done by Bandish Patel\n"
     ]
    }
   ],
   "source": [
    "#Find the location of the min value \n",
    "min_location = np.unravel_index(np.argmin(arr2), arr2.shape)\n",
    "print(min_location)\n",
    "print(\"This is done by Bandish Patel\")"
   ]
  },
  {
   "cell_type": "markdown",
   "metadata": {},
   "source": [
    "**Exercise 6-NumPy Scalar Operations**"
   ]
  },
  {
   "cell_type": "code",
   "execution_count": null,
   "metadata": {},
   "outputs": [],
   "source": [
    "#import numpy as np\n",
    "import numpy as np"
   ]
  },
  {
   "cell_type": "code",
   "execution_count": 26,
   "metadata": {},
   "outputs": [],
   "source": [
    "#to hide warnings from jupyter notebook\n",
    "\n"
   ]
  },
  {
   "cell_type": "code",
   "execution_count": 14,
   "metadata": {},
   "outputs": [
    {
     "name": "stdout",
     "output_type": "stream",
     "text": [
      "[[11 21  3  4]\n",
      " [ 3 41  5  6]\n",
      " [51  6 71  8]]\n",
      "This is done by Bandish Patel\n"
     ]
    }
   ],
   "source": [
    "#consider the following numpy array\n",
    "list2 = [[11, 21, 3, 4],[3, 41, 5, 6], [51, 6, 71, 8]]\n",
    "\n",
    "#cast it to a numpy array arr2\n",
    "arr2 = np.array(list2)\n",
    "print(arr2)\n",
    "print(\"This is done by Bandish Patel\")"
   ]
  },
  {
   "cell_type": "code",
   "execution_count": 15,
   "metadata": {},
   "outputs": [
    {
     "name": "stdout",
     "output_type": "stream",
     "text": [
      "[[ 66 126  18  24]\n",
      " [ 18 246  30  36]\n",
      " [306  36 426  48]]\n",
      "This is done by Bandish Patel\n"
     ]
    }
   ],
   "source": [
    "#multiply each element by 6\n",
    "arr_multiplied = arr2 * 6\n",
    "print(arr_multiplied)\n",
    "print(\"This is done by Bandish Patel\")"
   ]
  },
  {
   "cell_type": "code",
   "execution_count": 16,
   "metadata": {},
   "outputs": [
    {
     "name": "stdout",
     "output_type": "stream",
     "text": [
      "[[   14641   194481       81      256]\n",
      " [      81  2825761      625     1296]\n",
      " [ 6765201     1296 25411681     4096]]\n",
      "This is done by Bandish Patel\n"
     ]
    }
   ],
   "source": [
    "#raise every element to the power 4\n",
    "arr_powered = arr2 ** 4\n",
    "print(arr_powered)\n",
    "print(\"This is done by Bandish Patel\")    "
   ]
  },
  {
   "cell_type": "markdown",
   "metadata": {},
   "source": [
    "**Exercise 6 descriptive statistics**"
   ]
  },
  {
   "cell_type": "code",
   "execution_count": 17,
   "metadata": {},
   "outputs": [
    {
     "name": "stdout",
     "output_type": "stream",
     "text": [
      "19.166666666666668\n",
      "This is done by Bandish Patel\n"
     ]
    }
   ],
   "source": [
    "# get the average of numbers in a numpy array arr2\n",
    "average = np.mean(arr2)\n",
    "print(average)\n",
    "print(\"This is done by Bandish Patel\")"
   ]
  },
  {
   "cell_type": "code",
   "execution_count": 18,
   "metadata": {},
   "outputs": [
    {
     "name": "stdout",
     "output_type": "stream",
     "text": [
      "7.0\n",
      "This is done by Bandish Patel\n"
     ]
    }
   ],
   "source": [
    "# get the median of numbers in a numpy array aar2\n",
    "med = np.median(arr2)\n",
    "print(med)\n",
    "print(\"This is done by Bandish Patel\")"
   ]
  },
  {
   "cell_type": "markdown",
   "metadata": {},
   "source": [
    "- Let us create another numpy array that has elements repeated more than once\n",
    "- arr3=np.append([10, 20, 30], [[4, 5, 6], [40, 40, 60]])"
   ]
  },
  {
   "cell_type": "code",
   "execution_count": 19,
   "metadata": {},
   "outputs": [
    {
     "name": "stdout",
     "output_type": "stream",
     "text": [
      "ModeResult(mode=40, count=2)\n",
      "This is done by Bandish Patel\n"
     ]
    }
   ],
   "source": [
    "#create the array mentioned above\n",
    "#compute the mode for arr3\n",
    "arr3=np.append([10, 20, 30], [[4, 5, 6], [40, 40, 60]])\n",
    " \n",
    "\n",
    "#get the mode of number in a numpy array\n",
    "#import the required library\n",
    "import numpy as np\n",
    "from scipy.stats import mode\n",
    "\n",
    "\n",
    "# get the mode of arr3\n",
    "arr_mode = mode(arr3)\n",
    "\n",
    "#print the mode\n",
    "print(arr_mode)\n",
    "print(\"This is done by Bandish Patel\")"
   ]
  },
  {
   "cell_type": "markdown",
   "metadata": {},
   "source": [
    "##### **Exercise 7**\n",
    "- Get the min max mean vairance skewnees and kurtosis for the following numpy array\n",
    "- b= np. arrange (15)"
   ]
  },
  {
   "cell_type": "code",
   "execution_count": 20,
   "metadata": {},
   "outputs": [
    {
     "name": "stdout",
     "output_type": "stream",
     "text": [
      "0\n",
      "14\n",
      "7.0\n",
      "20.0\n",
      "0.0\n",
      "-1.210714285714286\n",
      "This is done by Bandish Patel\n"
     ]
    }
   ],
   "source": [
    "#create a numpy array using arange\n",
    "b = np.arange(15)\n",
    "\n",
    "\n",
    "#import required library\n",
    "import numpy as np\n",
    "from scipy.stats import describe\n",
    "\n",
    "#Get all the required values in one statment\n",
    "min_val, max_val, mean_val, variance_val, skewness_val, kurtosis_val = describe(b).minmax[0], describe(b).minmax[1], describe(b).mean, describe(b).variance, describe(b).skewness, describe(b).kurtosis\n",
    "print(min_val)\n",
    "print(max_val)\n",
    "print(mean_val)\n",
    "print(variance_val)\n",
    "print(skewness_val)\n",
    "print(kurtosis_val)\n",
    "print(\"This is done by Bandish Patel\")"
   ]
  },
  {
   "cell_type": "markdown",
   "metadata": {},
   "source": [
    "**Exercise 8: Slicing Two Dimensional Array ---Matrix**\n",
    " - Consider the following two dimensional array\n",
    " - arr4 = np.array([[35,20,15],[40,115,25],[15,20,75],[30,10,35]])"
   ]
  },
  {
   "cell_type": "code",
   "execution_count": 21,
   "metadata": {},
   "outputs": [
    {
     "name": "stdout",
     "output_type": "stream",
     "text": [
      "[[ 35  20  15]\n",
      " [ 40 115  25]\n",
      " [ 15  20  75]\n",
      " [ 30  10  35]]\n",
      "This is done by Bandish Patel\n"
     ]
    }
   ],
   "source": [
    "#create the array arr4 mentioned above\n",
    "arr4 = np.array([[35, 20, 15], [40, 115, 25], [15, 20, 75], [30, 10, 35]])\n",
    "\n",
    "\n",
    "#print it\n",
    "print(arr4)\n",
    "print(\"This is done by Bandish Patel\")"
   ]
  },
  {
   "cell_type": "code",
   "execution_count": 22,
   "metadata": {},
   "outputs": [
    {
     "name": "stdout",
     "output_type": "stream",
     "text": [
      "[ 40 115  25]\n",
      "[15 20 75]\n",
      "This is done by Bandish Patel\n"
     ]
    }
   ],
   "source": [
    "##to get  the second and third row of arr4\n",
    "sec_row = arr4[1]\n",
    "third_row = arr4[2]\n",
    "print(sec_row)\n",
    "print(third_row)\n",
    "print(\"This is done by Bandish Patel\")"
   ]
  },
  {
   "cell_type": "code",
   "execution_count": 23,
   "metadata": {},
   "outputs": [
    {
     "name": "stdout",
     "output_type": "stream",
     "text": [
      "[[ 20  15]\n",
      " [115  25]]\n",
      "This is done by Bandish Patel\n"
     ]
    }
   ],
   "source": [
    "#if you want submatrices of a matrix not elements you can use : for slice notations\n",
    "#let us say that I want to grap 20,15,115,25,20,75 i.e. the submatrix at the top right corner\n",
    "submatrix_top_right = arr4[:2, 1:]\n",
    "print(submatrix_top_right)\n",
    "print(\"This is done by Bandish Patel\")"
   ]
  },
  {
   "cell_type": "code",
   "execution_count": 24,
   "metadata": {},
   "outputs": [
    {
     "name": "stdout",
     "output_type": "stream",
     "text": [
      "[ 35  40 115  75  35]\n",
      "This is done by Bandish Patel\n"
     ]
    }
   ],
   "source": [
    "#let us say that we want to know all the elements of the array arr4 that are > 30\n",
    "greater = arr4[arr4 > 30]\n",
    "print(greater)\n",
    "print(\"This is done by Bandish Patel\")"
   ]
  },
  {
   "cell_type": "code",
   "execution_count": null,
   "metadata": {},
   "outputs": [],
   "source": []
  }
 ],
 "metadata": {
  "kernelspec": {
   "display_name": "Python 3 (ipykernel)",
   "language": "python",
   "name": "python3"
  },
  "language_info": {
   "codemirror_mode": {
    "name": "ipython",
    "version": 3
   },
   "file_extension": ".py",
   "mimetype": "text/x-python",
   "name": "python",
   "nbconvert_exporter": "python",
   "pygments_lexer": "ipython3",
   "version": "3.12.4"
  }
 },
 "nbformat": 4,
 "nbformat_minor": 4
}
